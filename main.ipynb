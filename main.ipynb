{
 "cells": [
  {
   "cell_type": "code",
   "execution_count": 89,
   "id": "0374fdcb",
   "metadata": {},
   "outputs": [],
   "source": [
    "import cv2\n",
    "import pickle\n",
    "import cvzone\n",
    "import numpy as np"
   ]
  },
  {
   "cell_type": "code",
   "execution_count": 90,
   "id": "887b8779",
   "metadata": {},
   "outputs": [],
   "source": [
    "# Video feed\n",
    "cap = cv2.VideoCapture('carPark.mp4')"
   ]
  },
  {
   "cell_type": "code",
   "execution_count": 91,
   "id": "73c01c81",
   "metadata": {},
   "outputs": [],
   "source": [
    "with open('CarParkPos', 'rb') as f:\n",
    "    posList = pickle.load(f)"
   ]
  },
  {
   "cell_type": "code",
   "execution_count": 92,
   "id": "76149cda",
   "metadata": {},
   "outputs": [],
   "source": [
    "width, height = 107, 48"
   ]
  },
  {
   "cell_type": "code",
   "execution_count": null,
   "id": "929228a5",
   "metadata": {},
   "outputs": [],
   "source": [
    "def checkParkingSpace(imgPro):\n",
    "    spaceCounter = 0\n",
    "\n",
    "    for pos in posList:\n",
    "        x, y = pos\n",
    "\n",
    "        imgCrop = imgPro[y:y + height, x:x + width]\n",
    "        count = cv2.countNonZero(imgCrop)\n",
    "\n",
    "        # Threshhold value, adjusted based on video\n",
    "        if count < 900:\n",
    "            color = (0, 255, 0)\n",
    "            thickness = 5\n",
    "            spaceCounter += 1\n",
    "        else:\n",
    "            color = (0, 0, 255)\n",
    "            thickness = 2\n",
    "\n",
    "        cv2.rectangle(img, pos, (pos[0] + width, pos[1] + height), color, thickness)\n",
    "        cvzone.putTextRect(img, str(count), (x, y + height - 3), scale=1,\n",
    "                           thickness=2, offset=0, colorR=color)\n",
    "\n",
    "    cvzone.putTextRect(img, f'Free: {spaceCounter}/{len(posList)}', (100, 50), scale=3,\n",
    "                           thickness=5, offset=20, colorR=(0,200,0))\n",
    "\n",
    "# Main loop\n",
    "while True:\n",
    "    # Close video when finished\n",
    "    if cap.get(cv2.CAP_PROP_POS_FRAMES) == cap.get(cv2.CAP_PROP_FRAME_COUNT):\n",
    "        break\n",
    "\n",
    "    success, img = cap.read()\n",
    "    # Preprocessing\n",
    "    imgGray = cv2.cvtColor(img, cv2.COLOR_BGR2GRAY)\n",
    "    imgBlur = cv2.GaussianBlur(imgGray, (3, 3), 1)      # Kernel size (3,3) and sigma 1\n",
    "    # Adaptive thresholding, block size 25, C 16\n",
    "    imgThreshold = cv2.adaptiveThreshold(imgBlur, 255, cv2.ADAPTIVE_THRESH_GAUSSIAN_C,\n",
    "                                         cv2.THRESH_BINARY_INV, 25, 16)     \n",
    "    imgMedian = cv2.medianBlur(imgThreshold, 5)\n",
    "    kernel = np.ones((3, 3), np.uint8)\n",
    "    imgDilate = cv2.dilate(imgMedian, kernel, iterations=1)\n",
    "\n",
    "    # Check spaces\n",
    "    checkParkingSpace(imgDilate)\n",
    "\n",
    "    cv2.imshow(\"Image\", img)\n",
    "    # cv2.imshow(\"Processed\", imgDilate)\n",
    "    cv2.waitKey(5)\n",
    "    if cv2.waitKey(10) & 0xFF == 27:  # ESC to quit\n",
    "        break\n",
    "\n",
    "cap.release()"
   ]
  },
  {
   "cell_type": "code",
   "execution_count": 94,
   "id": "c5a371c8",
   "metadata": {},
   "outputs": [],
   "source": [
    "cv2.destroyAllWindows()"
   ]
  },
  {
   "cell_type": "code",
   "execution_count": null,
   "id": "65ce429a",
   "metadata": {},
   "outputs": [],
   "source": []
  }
 ],
 "metadata": {
  "kernelspec": {
   "display_name": "base",
   "language": "python",
   "name": "python3"
  },
  "language_info": {
   "codemirror_mode": {
    "name": "ipython",
    "version": 3
   },
   "file_extension": ".py",
   "mimetype": "text/x-python",
   "name": "python",
   "nbconvert_exporter": "python",
   "pygments_lexer": "ipython3",
   "version": "3.11.7"
  }
 },
 "nbformat": 4,
 "nbformat_minor": 5
}
