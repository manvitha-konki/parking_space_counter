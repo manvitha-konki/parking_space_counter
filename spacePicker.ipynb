{
 "cells": [
  {
   "cell_type": "code",
   "execution_count": 35,
   "id": "36ee33a4",
   "metadata": {},
   "outputs": [],
   "source": [
    "import cv2\n",
    "import pickle   # Used to save and load data structures"
   ]
  },
  {
   "cell_type": "code",
   "execution_count": 36,
   "id": "467bee21",
   "metadata": {},
   "outputs": [],
   "source": [
    "width, height = 107, 48     # taken by trying different values"
   ]
  },
  {
   "cell_type": "code",
   "execution_count": 37,
   "id": "d711ad23",
   "metadata": {},
   "outputs": [],
   "source": [
    "try:\n",
    "    with open('CarParkPos', 'rb') as f:\n",
    "        posList = pickle.load(f)\n",
    "except:\n",
    "    posList = []"
   ]
  },
  {
   "cell_type": "code",
   "execution_count": 38,
   "id": "653b0de8",
   "metadata": {},
   "outputs": [],
   "source": [
    "# Takes the mouse events and updates the position list\n",
    "def mouseClick(events, x, y, flags, params):\n",
    "    # press the left mouse button\n",
    "    if events == cv2.EVENT_LBUTTONDOWN:\n",
    "        posList.append((x, y))\n",
    "    # press the right mouse button\n",
    "    if events == cv2.EVENT_RBUTTONDOWN:\n",
    "        for i, pos in enumerate(posList):\n",
    "            x1, y1 = pos\n",
    "            # if the position is within the rectangle\n",
    "            if x1 < x < x1 + width and y1 < y < y1 + height:\n",
    "                posList.pop(i)\n",
    "    with open('CarParkPos', 'wb') as f:\n",
    "        pickle.dump(posList, f)"
   ]
  },
  {
   "cell_type": "code",
   "execution_count": 39,
   "id": "065e1eae",
   "metadata": {},
   "outputs": [
    {
     "ename": "KeyboardInterrupt",
     "evalue": "",
     "output_type": "error",
     "traceback": [
      "\u001b[1;31m---------------------------------------------------------------------------\u001b[0m",
      "\u001b[1;31mKeyboardInterrupt\u001b[0m                         Traceback (most recent call last)",
      "Cell \u001b[1;32mIn[39], line 2\u001b[0m\n\u001b[0;32m      1\u001b[0m \u001b[38;5;28;01mwhile\u001b[39;00m \u001b[38;5;28;01mTrue\u001b[39;00m:\n\u001b[1;32m----> 2\u001b[0m     img \u001b[38;5;241m=\u001b[39m cv2\u001b[38;5;241m.\u001b[39mimread(\u001b[38;5;124m'\u001b[39m\u001b[38;5;124mcarParkImg.png\u001b[39m\u001b[38;5;124m'\u001b[39m)\n\u001b[0;32m      3\u001b[0m     \u001b[38;5;28;01mfor\u001b[39;00m pos \u001b[38;5;129;01min\u001b[39;00m posList:\n\u001b[0;32m      4\u001b[0m         cv2\u001b[38;5;241m.\u001b[39mrectangle(img, pos, (pos[\u001b[38;5;241m0\u001b[39m]\u001b[38;5;241m+\u001b[39mwidth, pos[\u001b[38;5;241m1\u001b[39m]\u001b[38;5;241m+\u001b[39mheight), (\u001b[38;5;241m255\u001b[39m, \u001b[38;5;241m0\u001b[39m, \u001b[38;5;241m255\u001b[39m), \u001b[38;5;241m2\u001b[39m)\n",
      "\u001b[1;31mKeyboardInterrupt\u001b[0m: "
     ]
    }
   ],
   "source": [
    "while True:\n",
    "    img = cv2.imread('carParkImg.png')\n",
    "    for pos in posList:\n",
    "        cv2.rectangle(img, pos, (pos[0]+width, pos[1]+height), (255, 0, 255), 2)\n",
    "    cv2.imshow(\"Image\", img)\n",
    "    cv2.setMouseCallback(\"Image\", mouseClick)\n",
    "    cv2.waitKey(5)"
   ]
  },
  {
   "cell_type": "code",
   "execution_count": 40,
   "id": "5fb56843",
   "metadata": {},
   "outputs": [],
   "source": [
    "cv2.destroyAllWindows()"
   ]
  },
  {
   "cell_type": "code",
   "execution_count": null,
   "id": "ae3520ec",
   "metadata": {},
   "outputs": [],
   "source": []
  }
 ],
 "metadata": {
  "kernelspec": {
   "display_name": "base",
   "language": "python",
   "name": "python3"
  },
  "language_info": {
   "codemirror_mode": {
    "name": "ipython",
    "version": 3
   },
   "file_extension": ".py",
   "mimetype": "text/x-python",
   "name": "python",
   "nbconvert_exporter": "python",
   "pygments_lexer": "ipython3",
   "version": "3.11.7"
  }
 },
 "nbformat": 4,
 "nbformat_minor": 5
}
